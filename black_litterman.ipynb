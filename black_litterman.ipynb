{
 "cells": [
  {
   "cell_type": "code",
   "execution_count": 3,
   "metadata": {},
   "outputs": [],
   "source": [
    "import pandas as pd \n",
    "import numpy as np \n",
    "import matplotlib.pyplot as plt \n",
    "import seaborn as sns\n",
    "\n",
    "from pypfopt import EfficientFrontier, risk_models, objective_functions, BlackLittermanModel, black_litterman"
   ]
  },
  {
   "cell_type": "code",
   "execution_count": 4,
   "metadata": {},
   "outputs": [],
   "source": [
    "historical_returns = pd.read_csv('./sample/blm_asset_returns.csv', parse_dates=True, index_col = 'Year')\n",
    "weights = pd.read_csv('./sample/blm_asset_weights.csv', parse_dates=True, index_col = 'asset_class')"
   ]
  },
  {
   "cell_type": "code",
   "execution_count": 5,
   "metadata": {},
   "outputs": [],
   "source": [
    "# Select some asset classes\n",
    "cols = [\n",
    "    'Global Bonds (Unhedged)', \n",
    "    'Total US Bond Market', \n",
    "    'US Large Cap Growth', \n",
    "    'US Large Cap Value', \n",
    "    'US Small Cap Growth', \n",
    "    'US Small Cap Value', \n",
    "    'Emerging Markets', \n",
    "    'Intl Developed ex-US Market', \n",
    "    'Short Term Treasury'\n",
    "]\n",
    "\n",
    "returns = historical_returns[cols].dropna()\n",
    "treasury_rate = returns['Short Term Treasury']\n",
    "\n",
    "# exclude Treasury Rate from calculation\n",
    "returns = returns.drop('Short Term Treasury', axis = 1).astype(float).dropna()\n",
    "weights = weights.loc[cols[:-1]]"
   ]
  },
  {
   "cell_type": "code",
   "execution_count": 6,
   "metadata": {},
   "outputs": [
    {
     "data": {
      "text/html": [
       "<div>\n",
       "<style scoped>\n",
       "    .dataframe tbody tr th:only-of-type {\n",
       "        vertical-align: middle;\n",
       "    }\n",
       "\n",
       "    .dataframe tbody tr th {\n",
       "        vertical-align: top;\n",
       "    }\n",
       "\n",
       "    .dataframe thead th {\n",
       "        text-align: right;\n",
       "    }\n",
       "</style>\n",
       "<table border=\"1\" class=\"dataframe\">\n",
       "  <thead>\n",
       "    <tr style=\"text-align: right;\">\n",
       "      <th></th>\n",
       "      <th>weight</th>\n",
       "    </tr>\n",
       "    <tr>\n",
       "      <th>asset_class</th>\n",
       "      <th></th>\n",
       "    </tr>\n",
       "  </thead>\n",
       "  <tbody>\n",
       "    <tr>\n",
       "      <th>Global Bonds (Unhedged)</th>\n",
       "      <td>0.224</td>\n",
       "    </tr>\n",
       "    <tr>\n",
       "      <th>Total US Bond Market</th>\n",
       "      <td>0.077</td>\n",
       "    </tr>\n",
       "    <tr>\n",
       "      <th>US Large Cap Growth</th>\n",
       "      <td>0.163</td>\n",
       "    </tr>\n",
       "    <tr>\n",
       "      <th>US Large Cap Value</th>\n",
       "      <td>0.162</td>\n",
       "    </tr>\n",
       "    <tr>\n",
       "      <th>US Small Cap Growth</th>\n",
       "      <td>0.022</td>\n",
       "    </tr>\n",
       "    <tr>\n",
       "      <th>US Small Cap Value</th>\n",
       "      <td>0.022</td>\n",
       "    </tr>\n",
       "    <tr>\n",
       "      <th>Emerging Markets</th>\n",
       "      <td>0.030</td>\n",
       "    </tr>\n",
       "    <tr>\n",
       "      <th>Intl Developed ex-US Market</th>\n",
       "      <td>0.299</td>\n",
       "    </tr>\n",
       "  </tbody>\n",
       "</table>\n",
       "</div>"
      ],
      "text/plain": [
       "                             weight\n",
       "asset_class                        \n",
       "Global Bonds (Unhedged)       0.224\n",
       "Total US Bond Market          0.077\n",
       "US Large Cap Growth           0.163\n",
       "US Large Cap Value            0.162\n",
       "US Small Cap Growth           0.022\n",
       "US Small Cap Value            0.022\n",
       "Emerging Markets              0.030\n",
       "Intl Developed ex-US Market   0.299"
      ]
     },
     "execution_count": 6,
     "metadata": {},
     "output_type": "execute_result"
    }
   ],
   "source": [
    "weights"
   ]
  },
  {
   "cell_type": "code",
   "execution_count": 7,
   "metadata": {},
   "outputs": [
    {
     "data": {
      "text/plain": [
       "Global Bonds (Unhedged)        0.059615\n",
       "Total US Bond Market           0.054231\n",
       "US Large Cap Growth            0.131538\n",
       "US Large Cap Value             0.102308\n",
       "US Small Cap Growth            0.119615\n",
       "US Small Cap Value             0.114615\n",
       "Emerging Markets               0.100000\n",
       "Intl Developed ex-US Market    0.063462\n",
       "dtype: float64"
      ]
     },
     "execution_count": 7,
     "metadata": {},
     "output_type": "execute_result"
    }
   ],
   "source": [
    "# Avg returns\n",
    "returns.mean()"
   ]
  },
  {
   "cell_type": "code",
   "execution_count": 8,
   "metadata": {},
   "outputs": [
    {
     "name": "stdout",
     "output_type": "stream",
     "text": [
      "Global Market Average Return is 0.0446 with Market Variance equal to 0.0202548\n",
      "The Risk Aversion Coefficient is 2.20\n"
     ]
    }
   ],
   "source": [
    "# Excess Return\n",
    "excess_returns = returns.subtract(treasury_rate, axis = 0)\n",
    "\n",
    "# Covariance Matrix\n",
    "cov = excess_returns.cov() \n",
    "\n",
    "# Global Return (Return of asset class * weights)\n",
    "global_return = excess_returns.mean().multiply(weights['weight'].values).sum()\n",
    "\n",
    "# Market Variance\n",
    "weight_vector = weights.values.reshape(len(weights))\n",
    "market_var = weight_vector.T @ cov @ weight_vector\n",
    "\n",
    "print(f'Global Market Average Return is {global_return:.4f} with Market Variance equal to {market_var:.6}')\n",
    "\n",
    "risk_aversion_coef = global_return / market_var\n",
    "print(f'The Risk Aversion Coefficient is {risk_aversion_coef:.2f}')"
   ]
  },
  {
   "cell_type": "code",
   "execution_count": 19,
   "metadata": {},
   "outputs": [
    {
     "name": "stderr",
     "output_type": "stream",
     "text": [
      "/Users/pasin/Codes/Python/_investments/env/lib/python3.7/site-packages/ipykernel_launcher.py:18: UserWarning: FixedFormatter should only be used together with FixedLocator\n"
     ]
    },
    {
     "data": {
      "image/png": "[encoded data removed]",
      "text/plain": [
       "<Figure size 576x360 with 1 Axes>"
      ]
     },
     "metadata": {
      "needs_background": "light"
     },
     "output_type": "display_data"
    }
   ],
   "source": [
    "# weight from combining historical mean and variance to the Risk Aversion Coefficient\n",
    "risk_aversion_weight = np.linalg.solve(risk_aversion_coef * cov, excess_returns.mean())\n",
    "\n",
    "# visualize the difference between market cap weight and risk aversion weight \n",
    "assets = weights.index \n",
    "mcap_weight = weights['weight'].values\n",
    "\n",
    "fig, ax = plt.subplots(figsize = (8, 5))\n",
    "ax.set_title('Mean-variance portfolio weights recommendation and the market portfolio')\n",
    "ax.plot(assets, risk_aversion_weight, 'o', c='k', label='$w$ (mean-variance)')\n",
    "ax.plot(assets, mcap_weight, 'o', c='r', label='$w_m$ (market portfolio)')\n",
    "ax.vlines(assets, 0, risk_aversion_weight, lw=1)\n",
    "ax.vlines(assets, 0, mcap_weight, lw=1)\n",
    "ax.axhline(0, c='k')\n",
    "ax.axhline(-1, c='k', ls='--')\n",
    "ax.axhline(1, c='k', ls='--')\n",
    "ax.set_xlabel('Assets')\n",
    "ax.set_xticklabels(assets, rotation = 45)\n",
    "plt.legend(numpoints=1, fontsize=11)\n",
    "plt.show()"
   ]
  },
  {
   "cell_type": "code",
   "execution_count": 9,
   "metadata": {},
   "outputs": [
    {
     "data": {
      "text/plain": [
       "Global Bonds (Unhedged)        0.012871\n",
       "Total US Bond Market           0.002439\n",
       "US Large Cap Growth            0.060436\n",
       "US Large Cap Value             0.051548\n",
       "US Small Cap Growth            0.056798\n",
       "US Small Cap Value             0.043902\n",
       "Emerging Markets               0.076184\n",
       "Intl Developed ex-US Market    0.063076\n",
       "Name: weight, dtype: float64"
      ]
     },
     "execution_count": 9,
     "metadata": {},
     "output_type": "execute_result"
    }
   ],
   "source": [
    "# Calculate implied returns \n",
    "def get_implied_returns(risk_aversion_coef, cov, weights):\n",
    "    return risk_aversion_coef * (cov @ weights).squeeze()\n",
    "\n",
    "implied_returns_eq = get_implied_returns(risk_aversion_coef=risk_aversion_coef, cov = cov, weights=weights)\n",
    "implied_returns_eq"
   ]
  },
  {
   "cell_type": "code",
   "execution_count": 10,
   "metadata": {},
   "outputs": [
    {
     "name": "stdout",
     "output_type": "stream",
     "text": [
      "Variance of view 0 is 0.097\n",
      "Variance of view 1 is 0.015\n",
      "Variance of view 2 is 0.045\n"
     ]
    }
   ],
   "source": [
    "# VIEWS\n",
    "Q = np.array([0.0925, 0.005, 0.055])\n",
    "P = np.array([\n",
    "    [0, 0, 0, 0, 0, 0, 1, 0], \n",
    "    [0, 0, 0.85, -0.85, -0.15, -0.15, 0, 0], \n",
    "    [0, 0, 0, 0, 0, 0, 0, 1]\n",
    "])\n",
    "\n",
    "# Calculate each view variance\n",
    "n_views = len(Q)\n",
    "view_var = []\n",
    "for i in range(n_views):\n",
    "    view_vector = P[i].reshape(len(P[i]))\n",
    "    view_cov = view_vector.T @ cov @ view_vector\n",
    "    view_var.append(view_cov)\n",
    "    print(f'Variance of view {i} is {view_cov:.3f}')\n"
   ]
  },
  {
   "cell_type": "code",
   "execution_count": 11,
   "metadata": {},
   "outputs": [
    {
     "data": {
      "text/plain": [
       "[0.09655215384615386, 0.01534823115384617, 0.04505784615384616]"
      ]
     },
     "execution_count": 11,
     "metadata": {},
     "output_type": "execute_result"
    }
   ],
   "source": [
    "view_var"
   ]
  },
  {
   "cell_type": "code",
   "execution_count": 12,
   "metadata": {},
   "outputs": [
    {
     "data": {
      "text/plain": [
       "array([[ 0.  ,  0.  ,  0.  ,  0.  ,  0.  ,  0.  ,  1.  ,  0.  ],\n",
       "       [ 0.  ,  0.  ,  0.85, -0.85, -0.15, -0.15,  0.  ,  0.  ],\n",
       "       [ 0.  ,  0.  ,  0.  ,  0.  ,  0.  ,  0.  ,  0.  ,  1.  ]])"
      ]
     },
     "execution_count": 12,
     "metadata": {},
     "output_type": "execute_result"
    }
   ],
   "source": [
    "P"
   ]
  },
  {
   "cell_type": "code",
   "execution_count": 13,
   "metadata": {},
   "outputs": [],
   "source": [
    "# Find Omega\n",
    "def get_error_cov_mat(cov, tau, P):\n",
    "    return np.diag(\n",
    "        np.diag(\n",
    "            P @ (tau * cov) @ P.T\n",
    "        )\n",
    "    )\n",
    "\n",
    "tau = 0.025\n",
    "omega = get_error_cov_mat(cov = cov, tau = tau, P = P)"
   ]
  },
  {
   "cell_type": "code",
   "execution_count": 14,
   "metadata": {},
   "outputs": [
    {
     "data": {
      "text/plain": [
       "array([[0.0024138 , 0.        , 0.        ],\n",
       "       [0.        , 0.00038371, 0.        ],\n",
       "       [0.        , 0.        , 0.00112645]])"
      ]
     },
     "execution_count": 14,
     "metadata": {},
     "output_type": "execute_result"
    }
   ],
   "source": [
    "tmp = P @ (tau * cov) @ P.T\n",
    "np.diag(np.diag(tmp))\n",
    "# tmp"
   ]
  },
  {
   "cell_type": "code",
   "execution_count": 15,
   "metadata": {},
   "outputs": [
    {
     "data": {
      "text/plain": [
       "Global Bonds (Unhedged)        0.013137\n",
       "Total US Bond Market           0.002297\n",
       "US Large Cap Growth            0.061663\n",
       "US Large Cap Value             0.046864\n",
       "US Small Cap Growth            0.054727\n",
       "US Small Cap Value             0.037481\n",
       "Emerging Markets               0.079109\n",
       "Intl Developed ex-US Market    0.061875\n",
       "dtype: float64"
      ]
     },
     "execution_count": 15,
     "metadata": {},
     "output_type": "execute_result"
    }
   ],
   "source": [
    "# Calculate View-based Return Vector\n",
    "cov_scaled = cov * tau \n",
    "BLM_return_vector = implied_returns_eq + \\\n",
    "    cov_scaled @ P.T @ (\n",
    "        np.linalg.inv(\n",
    "            (P @ cov_scaled @ P.T) + omega \n",
    "        ) @ (Q - (\n",
    "            P @ implied_returns_eq\n",
    "        ))\n",
    "    )\n",
    "BLM_return_vector"
   ]
  },
  {
   "cell_type": "code",
   "execution_count": 16,
   "metadata": {},
   "outputs": [],
   "source": [
    "# Posterior Combined Return Vector (same as above, but this one is written following the real BLM formula)\n",
    "posterior_return = np.linalg.inv(\n",
    "    np.linalg.inv(tau * cov) + (P.T @ np.linalg.inv(omega) @ P)\n",
    ") @ (\n",
    "    (np.linalg.inv(tau * cov) @ implied_returns_eq) + (P.T @ np.linalg.inv(omega) @ Q)\n",
    ")"
   ]
  },
  {
   "cell_type": "code",
   "execution_count": 17,
   "metadata": {},
   "outputs": [],
   "source": [
    "# Calculate Black-Litterman references weights\n",
    "inverse_cov = pd.DataFrame(np.linalg.inv(cov.values), index = cov.index, columns = cov.columns)\n",
    "\n",
    "bl_weight_vector = inverse_cov.dot(posterior_return)\n",
    "bl_weight_vector = bl_weight_vector / sum(bl_weight_vector)"
   ]
  },
  {
   "cell_type": "code",
   "execution_count": 18,
   "metadata": {},
   "outputs": [
    {
     "data": {
      "text/plain": [
       "Global Bonds (Unhedged)        0.238999\n",
       "Total US Bond Market           0.082156\n",
       "US Large Cap Growth            0.341550\n",
       "US Large Cap Value             0.005212\n",
       "US Small Cap Growth           -0.006110\n",
       "US Small Cap Value            -0.006110\n",
       "Emerging Markets               0.099163\n",
       "Intl Developed ex-US Market    0.245140\n",
       "dtype: float64"
      ]
     },
     "execution_count": 18,
     "metadata": {},
     "output_type": "execute_result"
    }
   ],
   "source": [
    "bl_weight_vector"
   ]
  },
  {
   "cell_type": "code",
   "execution_count": 19,
   "metadata": {},
   "outputs": [],
   "source": [
    "# BL weight with pypfopt\n",
    "ef = EfficientFrontier(bl_weight_vector, cov)\n"
   ]
  },
  {
   "cell_type": "markdown",
   "metadata": {},
   "source": [
    "<h1 style=\"color:orange\">Pypfopt's Black-Litterman</h1>"
   ]
  },
  {
   "cell_type": "code",
   "execution_count": 20,
   "metadata": {},
   "outputs": [
    {
     "name": "stderr",
     "output_type": "stream",
     "text": [
      "/Users/pasin/Codes/Python/investments/env/lib/python3.7/site-packages/pypfopt/black_litterman.py:257: UserWarning: Running Black-Litterman with no prior.\n",
      "  warnings.warn(\"Running Black-Litterman with no prior.\")\n"
     ]
    }
   ],
   "source": [
    "delta = black_litterman.market_implied_risk_aversion(excess_returns)\n",
    "prior = black_litterman.market_implied_prior_returns(weights.to_dict()['weight'], delta, cov)\n",
    "dummy_views = {ticker: 1 for ticker in weights.index}\n",
    "\n",
    "# bl = BlackLittermanModel(cov_matrix = cov, absolute_views=dummy_views)\n",
    "# bl._set_Q_P(Q, P)\n",
    "bl = BlackLittermanModel(cov_matrix = cov, absolute_views = None, Q = Q, P = P, tau = tau)"
   ]
  },
  {
   "cell_type": "code",
   "execution_count": 21,
   "metadata": {},
   "outputs": [],
   "source": [
    "rets = bl.bl_returns()"
   ]
  },
  {
   "cell_type": "code",
   "execution_count": 22,
   "metadata": {},
   "outputs": [],
   "source": [
    "# Black-Litterman's default Omega\n",
    "default_omega = BlackLittermanModel.default_omega(cov, P, tau)\n",
    "\n",
    "# Black-Litterman's default return function\n",
    "tau_sigma_p = (tau * cov) @ P.T\n",
    "A = (P @ tau_sigma_p) + omega\n",
    "b = Q - P @ implied_returns_eq\n",
    "y = implied_returns_eq + tau_sigma_p @ np.linalg.solve(A, b)"
   ]
  },
  {
   "cell_type": "code",
   "execution_count": 23,
   "metadata": {},
   "outputs": [
    {
     "data": {
      "text/plain": [
       "array([0.01313686, 0.00229663, 0.06166339, 0.04686381, 0.05472742,\n",
       "       0.03748082, 0.07910885, 0.06187519])"
      ]
     },
     "execution_count": 23,
     "metadata": {},
     "output_type": "execute_result"
    }
   ],
   "source": [
    "posterior_return"
   ]
  },
  {
   "cell_type": "code",
   "execution_count": 24,
   "metadata": {},
   "outputs": [
    {
     "data": {
      "text/plain": [
       "Global Bonds (Unhedged)        0.013137\n",
       "Total US Bond Market           0.002297\n",
       "US Large Cap Growth            0.061663\n",
       "US Large Cap Value             0.046864\n",
       "US Small Cap Growth            0.054727\n",
       "US Small Cap Value             0.037481\n",
       "Emerging Markets               0.079109\n",
       "Intl Developed ex-US Market    0.061875\n",
       "dtype: float64"
      ]
     },
     "execution_count": 24,
     "metadata": {},
     "output_type": "execute_result"
    }
   ],
   "source": [
    "y"
   ]
  },
  {
   "cell_type": "code",
   "execution_count": null,
   "metadata": {},
   "outputs": [],
   "source": []
  },
  {
   "cell_type": "code",
   "execution_count": null,
   "metadata": {},
   "outputs": [],
   "source": []
  },
  {
   "cell_type": "code",
   "execution_count": null,
   "metadata": {},
   "outputs": [],
   "source": []
  }
 ],
 "metadata": {
  "interpreter": {
   "hash": "73bdb98b4ba5e08b62f67197d9c5f9ae206880ea286b825d96240987b723b59a"
  },
  "kernelspec": {
   "display_name": "Python 3.7.10 64-bit ('env01': conda)",
   "language": "python",
   "name": "python3"
  },
  "language_info": {
   "codemirror_mode": {
    "name": "ipython",
    "version": 3
   },
   "file_extension": ".py",
   "mimetype": "text/x-python",
   "name": "python",
   "nbconvert_exporter": "python",
   "pygments_lexer": "ipython3",
   "version": "3.7.4"
  },
  "orig_nbformat": 4
 },
 "nbformat": 4,
 "nbformat_minor": 2
}
