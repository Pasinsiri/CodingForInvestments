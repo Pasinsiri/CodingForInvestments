{
 "cells": [
  {
   "cell_type": "code",
   "execution_count": 30,
   "metadata": {},
   "outputs": [],
   "source": [
    "import pandas as pd \n",
    "import numpy as np \n",
    "import matplotlib.pyplot as plt \n",
    "import seaborn as sns\n",
    "\n",
    "from pypfopt import EfficientFrontier, risk_models, objective_functions, BlackLittermanModel, black_litterman"
   ]
  },
  {
   "cell_type": "code",
   "execution_count": 4,
   "metadata": {},
   "outputs": [],
   "source": [
    "historical_returns = pd.read_csv('./sample/blm_asset_returns.csv', parse_dates=True, index_col = 'Year')\n",
    "weights = pd.read_csv('./sample/blm_asset_weights.csv', parse_dates=True, index_col = 'asset_class')"
   ]
  },
  {
   "cell_type": "code",
   "execution_count": 5,
   "metadata": {},
   "outputs": [
    {
     "name": "stderr",
     "output_type": "stream",
     "text": [
      "/Users/pasin/opt/anaconda3/envs/env01/lib/python3.7/site-packages/ipykernel_launcher.py:18: DeprecationWarning: `np.float` is a deprecated alias for the builtin `float`. To silence this warning, use `float` by itself. Doing this will not modify any behavior and is safe. If you specifically wanted the numpy scalar type, use `np.float64` here.\n",
      "Deprecated in NumPy 1.20; for more details and guidance: https://numpy.org/devdocs/release/1.20.0-notes.html#deprecations\n"
     ]
    }
   ],
   "source": [
    "# Select some asset classes\n",
    "cols = [\n",
    "    'Global Bonds (Unhedged)', \n",
    "    'Total US Bond Market', \n",
    "    'US Large Cap Growth', \n",
    "    'US Large Cap Value', \n",
    "    'US Small Cap Growth', \n",
    "    'US Small Cap Value', \n",
    "    'Emerging Markets', \n",
    "    'Intl Developed ex-US Market', \n",
    "    'Short Term Treasury'\n",
    "]\n",
    "\n",
    "returns = historical_returns[cols].dropna()\n",
    "treasury_rate = returns['Short Term Treasury']\n",
    "\n",
    "# exclude Treasury Rate from calculation\n",
    "returns = returns.drop('Short Term Treasury', axis = 1).astype(np.float).dropna()\n",
    "weights = weights.loc[cols[:-1]]"
   ]
  },
  {
   "cell_type": "code",
   "execution_count": 6,
   "metadata": {},
   "outputs": [
    {
     "data": {
      "text/plain": [
       "Global Bonds (Unhedged)        0.059615\n",
       "Total US Bond Market           0.054231\n",
       "US Large Cap Growth            0.131538\n",
       "US Large Cap Value             0.102308\n",
       "US Small Cap Growth            0.119615\n",
       "US Small Cap Value             0.114615\n",
       "Emerging Markets               0.100000\n",
       "Intl Developed ex-US Market    0.063462\n",
       "dtype: float64"
      ]
     },
     "execution_count": 6,
     "metadata": {},
     "output_type": "execute_result"
    }
   ],
   "source": [
    "# Avg returns\n",
    "returns.mean()"
   ]
  },
  {
   "cell_type": "code",
   "execution_count": 7,
   "metadata": {},
   "outputs": [
    {
     "name": "stdout",
     "output_type": "stream",
     "text": [
      "Global Market Average Return is 0.0446 with Market Variance equal to 0.0202548\n",
      "The Risk Aversion Coefficient is 2.20\n"
     ]
    }
   ],
   "source": [
    "# Excess Return\n",
    "excess_returns = returns.subtract(treasury_rate, axis = 0)\n",
    "\n",
    "# Covariance Matrix\n",
    "cov = excess_returns.cov() \n",
    "\n",
    "# Global Return (Return of asset class * weights)\n",
    "global_return = excess_returns.mean().multiply(weights['weight'].values).sum()\n",
    "\n",
    "# Market Variance\n",
    "weight_vector = weights.values.reshape(len(weights))\n",
    "market_var = weight_vector.T @ cov @ weight_vector\n",
    "\n",
    "print(f'Global Market Average Return is {global_return:.4f} with Market Variance equal to {market_var:.6}')\n",
    "\n",
    "risk_aversion_coef = global_return / market_var\n",
    "print(f'The Risk Aversion Coefficient is {risk_aversion_coef:.2f}')"
   ]
  },
  {
   "cell_type": "code",
   "execution_count": 16,
   "metadata": {},
   "outputs": [
    {
     "data": {
      "text/plain": [
       "Global Bonds (Unhedged)        0.012871\n",
       "Total US Bond Market           0.002439\n",
       "US Large Cap Growth            0.060436\n",
       "US Large Cap Value             0.051548\n",
       "US Small Cap Growth            0.056798\n",
       "US Small Cap Value             0.043902\n",
       "Emerging Markets               0.076184\n",
       "Intl Developed ex-US Market    0.063076\n",
       "Name: weight, dtype: float64"
      ]
     },
     "execution_count": 16,
     "metadata": {},
     "output_type": "execute_result"
    }
   ],
   "source": [
    "# Calculate implied returns \n",
    "def get_implied_returns(risk_aversion_coef, cov, weights):\n",
    "    return risk_aversion_coef * (cov @ weights).squeeze()\n",
    "\n",
    "implied_returns_eq = get_implied_returns(risk_aversion_coef=risk_aversion_coef, cov = cov, weights=weights)\n",
    "implied_returns_eq"
   ]
  },
  {
   "cell_type": "code",
   "execution_count": 17,
   "metadata": {},
   "outputs": [
    {
     "name": "stdout",
     "output_type": "stream",
     "text": [
      "Variance of view 0 is 0.097\n",
      "Variance of view 1 is 0.015\n",
      "Variance of view 2 is 0.045\n"
     ]
    }
   ],
   "source": [
    "# VIEWS\n",
    "Q = np.array([0.0925, 0.005, 0.055])\n",
    "P = np.array([\n",
    "    [0, 0, 0, 0, 0, 0, 1, 0], \n",
    "    [0, 0, 0.85, -0.85, -0.15, -0.15, 0, 0], \n",
    "    [0, 0, 0, 0, 0, 0, 0, 1]\n",
    "])\n",
    "\n",
    "# Calculate each view variance\n",
    "n_views = len(Q)\n",
    "view_var = []\n",
    "for i in range(n_views):\n",
    "    view_vector = P[i].reshape(len(P[i]))\n",
    "    view_cov = view_vector.T @ cov @ view_vector\n",
    "    view_var.append(view_cov)\n",
    "    print(f'Variance of view {i} is {view_cov:.3f}')\n"
   ]
  },
  {
   "cell_type": "code",
   "execution_count": 18,
   "metadata": {},
   "outputs": [
    {
     "data": {
      "text/plain": [
       "[0.09655215384615386, 0.01534823115384617, 0.04505784615384616]"
      ]
     },
     "execution_count": 18,
     "metadata": {},
     "output_type": "execute_result"
    }
   ],
   "source": [
    "view_var"
   ]
  },
  {
   "cell_type": "code",
   "execution_count": 19,
   "metadata": {},
   "outputs": [],
   "source": [
    "# Find Omega\n",
    "def get_error_cov_mat(cov, tau, P):\n",
    "    return np.diag(\n",
    "        np.diag(\n",
    "            P @ (tau * cov) @ P.T\n",
    "        )\n",
    "    )\n",
    "\n",
    "tau = 0.025\n",
    "omega = get_error_cov_mat(cov = cov, tau = tau, P = P)"
   ]
  },
  {
   "cell_type": "code",
   "execution_count": 20,
   "metadata": {},
   "outputs": [
    {
     "data": {
      "text/plain": [
       "Global Bonds (Unhedged)        0.013137\n",
       "Total US Bond Market           0.002297\n",
       "US Large Cap Growth            0.061663\n",
       "US Large Cap Value             0.046864\n",
       "US Small Cap Growth            0.054727\n",
       "US Small Cap Value             0.037481\n",
       "Emerging Markets               0.079109\n",
       "Intl Developed ex-US Market    0.061875\n",
       "dtype: float64"
      ]
     },
     "execution_count": 20,
     "metadata": {},
     "output_type": "execute_result"
    }
   ],
   "source": [
    "# Calculate View-based Return Vector\n",
    "cov_scaled = cov * tau \n",
    "BLM_return_vector = implied_returns_eq + \\\n",
    "    cov_scaled @ P.T @ (\n",
    "        np.linalg.inv(\n",
    "            (P @ cov_scaled @ P.T) + omega \n",
    "        ) @ (Q - (\n",
    "            P @ implied_returns_eq\n",
    "        ))\n",
    "    )\n",
    "BLM_return_vector"
   ]
  },
  {
   "cell_type": "code",
   "execution_count": 21,
   "metadata": {},
   "outputs": [],
   "source": [
    "# Posterior Combined Return Vector (same as above, but this one is written following the real BLM formula)\n",
    "posterior_return = np.linalg.inv(\n",
    "    np.linalg.inv(tau * cov) + (P.T @ np.linalg.inv(omega) @ P)\n",
    ") @ (\n",
    "    (np.linalg.inv(tau * cov) @ implied_returns_eq) + (P.T @ np.linalg.inv(omega) @ Q)\n",
    ")"
   ]
  },
  {
   "cell_type": "code",
   "execution_count": 25,
   "metadata": {},
   "outputs": [
    {
     "data": {
      "text/plain": [
       "OrderedDict([('Global Bonds (Unhedged)', 0.0),\n",
       "             ('Total US Bond Market', 0.0),\n",
       "             ('US Large Cap Growth', 0.19455),\n",
       "             ('US Large Cap Value', 0.11796),\n",
       "             ('US Small Cap Growth', 0.15537),\n",
       "             ('US Small Cap Value', 0.06887),\n",
       "             ('Emerging Markets', 0.27181),\n",
       "             ('Intl Developed ex-US Market', 0.19143)])"
      ]
     },
     "execution_count": 25,
     "metadata": {},
     "output_type": "execute_result"
    }
   ],
   "source": [
    "# Optimization\n",
    "ef = EfficientFrontier(posterior_return, cov)\n",
    "ef.add_objective(objective_functions.L2_reg)\n",
    "ef.max_sharpe()\n",
    "ef.clean_weights()"
   ]
  },
  {
   "cell_type": "code",
   "execution_count": 29,
   "metadata": {},
   "outputs": [
    {
     "data": {
      "text/plain": [
       "OrderedDict([('Global Bonds (Unhedged)', 0.14031),\n",
       "             ('Total US Bond Market', 0.14492),\n",
       "             ('US Large Cap Growth', 0.11996),\n",
       "             ('US Large Cap Value', 0.12265),\n",
       "             ('US Small Cap Growth', 0.11934),\n",
       "             ('US Small Cap Value', 0.12419),\n",
       "             ('Emerging Markets', 0.11014),\n",
       "             ('Intl Developed ex-US Market', 0.1185)])"
      ]
     },
     "execution_count": 29,
     "metadata": {},
     "output_type": "execute_result"
    }
   ],
   "source": [
    "# Optimization\n",
    "ef = EfficientFrontier(posterior_return, cov)\n",
    "ef.add_objective(objective_functions.L2_reg)\n",
    "ef.min_volatility()\n",
    "ef.clean_weights()"
   ]
  },
  {
   "cell_type": "markdown",
   "metadata": {},
   "source": [
    "<h1 style=\"color:orange\">Pypfopt's Black-Litterman</h1>"
   ]
  },
  {
   "cell_type": "code",
   "execution_count": 36,
   "metadata": {},
   "outputs": [
    {
     "data": {
      "text/plain": [
       "Global Bonds (Unhedged)        0\n",
       "Total US Bond Market           0\n",
       "US Large Cap Growth            0\n",
       "US Large Cap Value             0\n",
       "US Small Cap Growth            0\n",
       "US Small Cap Value             0\n",
       "Emerging Markets               0\n",
       "Intl Developed ex-US Market    0\n",
       "dtype: int64"
      ]
     },
     "execution_count": 36,
     "metadata": {},
     "output_type": "execute_result"
    }
   ],
   "source": [
    "# cov = risk_models.CovarianceShrinkage(excess_returns).ledoit_wolf()\n",
    "# cov\n",
    "excess_returns.isnull().sum()"
   ]
  },
  {
   "cell_type": "code",
   "execution_count": 33,
   "metadata": {},
   "outputs": [
    {
     "data": {
      "text/plain": [
       "<pypfopt.risk_models.CovarianceShrinkage at 0x7fd658ba6210>"
      ]
     },
     "execution_count": 33,
     "metadata": {},
     "output_type": "execute_result"
    }
   ],
   "source": [
    "cov"
   ]
  },
  {
   "cell_type": "code",
   "execution_count": null,
   "metadata": {},
   "outputs": [],
   "source": []
  }
 ],
 "metadata": {
  "interpreter": {
   "hash": "73bdb98b4ba5e08b62f67197d9c5f9ae206880ea286b825d96240987b723b59a"
  },
  "kernelspec": {
   "display_name": "Python 3.7.10 64-bit ('env01': conda)",
   "language": "python",
   "name": "python3"
  },
  "language_info": {
   "codemirror_mode": {
    "name": "ipython",
    "version": 3
   },
   "file_extension": ".py",
   "mimetype": "text/x-python",
   "name": "python",
   "nbconvert_exporter": "python",
   "pygments_lexer": "ipython3",
   "version": "3.7.10"
  },
  "orig_nbformat": 4
 },
 "nbformat": 4,
 "nbformat_minor": 2
}
